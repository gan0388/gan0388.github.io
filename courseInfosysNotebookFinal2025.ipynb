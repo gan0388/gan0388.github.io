{
  "nbformat": 4,
  "nbformat_minor": 0,
  "metadata": {
    "colab": {
      "provenance": [],
      "toc_visible": true
    },
    "kernelspec": {
      "name": "python3",
      "display_name": "Python 3"
    },
    "language_info": {
      "name": "python"
    }
  },
  "cells": [
    {
      "cell_type": "markdown",
      "source": [
        "This notebook focuses on some basics of data analysis: linear regression, optimization and Bayesian inference.\n"
      ],
      "metadata": {
        "id": "fQEINBQMh2qW"
      }
    },
    {
      "cell_type": "markdown",
      "source": [
        "# Least squares linear regression: basics\n",
        "\n"
      ],
      "metadata": {
        "id": "skN3xJRVg7Ok"
      }
    },
    {
      "cell_type": "markdown",
      "source": [
        "Let's start by implementing a simple least squares fit using analytical expressions.\n",
        "\n",
        "Plot the data provided below. Calculate the least squares estimate for the slope $a$ and intercept $b$ ($y=ax+b$) with the analytical formulae mentioned in lectures and add the corresponding line to your plot."
      ],
      "metadata": {
        "id": "0cCeJ45hhRBg"
      }
    },
    {
      "cell_type": "code",
      "execution_count": 28,
      "metadata": {
        "id": "jXRJ3b5qD-Dj",
        "colab": {
          "base_uri": "https://localhost:8080/",
          "height": 541
        },
        "outputId": "0ab9eefb-0d07-43aa-f746-5228fc0d861c"
      },
      "outputs": [
        {
          "output_type": "stream",
          "name": "stdout",
          "text": [
            "coeff a : 50.494053105000006\n",
            "coeff b : 26.599999999999998\n",
            "Slope (a): 1.8982726731203012\n",
            "Intercept (b): 1.261222194571428\n"
          ]
        },
        {
          "output_type": "display_data",
          "data": {
            "text/plain": [
              "<Figure size 640x480 with 1 Axes>"
            ],
            "image/png": "[encoded data removed]"
          },
          "metadata": {}
        }
      ],
      "source": [
        "import numpy\n",
        "import pylab\n",
        "\n",
        "xarray = numpy.arange(20.)/5\n",
        "yarray = numpy.array([1.16100793, 2.27070892+8.*0., 1.7102285 , 1.92216664 ,2.00306275 ,3.60437835,\n",
        " 3.8682993 , 5.51139028, 3.16760897, 4.27715062, 4.22776111, 5.33520844,\n",
        " 6.50611469, 5.4146256,  7.04786637, 8.44454962, 7.63848438, 7.81296952,\n",
        " 8.80991074 ,6.62531274])\n",
        "\n",
        "mean_x = numpy.mean(xarray)\n",
        "mean_y = numpy.mean(yarray)\n",
        "\n",
        "coeff_a = numpy.sum((xarray - mean_x) * (yarray - mean_y))\n",
        "coeff_b = numpy.sum((xarray - mean_x)**2)\n",
        "\n",
        "print('coeff a :', coeff_a)\n",
        "print('coeff b :', coeff_b)\n",
        "\n",
        "numerator = numpy.sum((xarray - mean_x) * (yarray - mean_y))\n",
        "denominator = numpy.sum((xarray - mean_x)**2)\n",
        "\n",
        "a_analytical = numerator / denominator\n",
        "b_analytical = mean_y - a_analytical * mean_x\n",
        "\n",
        "print(f\"Slope (a): {a_analytical}\")\n",
        "print(f\"Intercept (b): {b_analytical}\")\n",
        "\n",
        "# Plot the data\n",
        "pylab.scatter(xarray, yarray, label='Data')\n",
        "pylab.xlabel('x')\n",
        "pylab.ylabel('y')\n",
        "pylab.title('Least Squares Fit')\n",
        "\n",
        "# Add the analytical least squares line to the plot\n",
        "pylab.plot(xarray, a_analytical * xarray + b_analytical, color='red', label='Analytical Fit')\n",
        "pylab.legend()\n",
        "pylab.show()"
      ]
    },
    {
      "cell_type": "markdown",
      "source": [
        "Now recompute the least-squares slope $a$ and intercept $b$ by numerically minimizing/optimizing the least squares loss function $\\sum_i (y(x_i)-f(x_i,a,b))^2$. You may wish to use the numerical optimization routine included below. Do you find the same result as in the analytical calculation? Replot the data along with the best fit line you have derived.\n",
        "\n",
        "Repeat your optimization but with an L1 loss function and add the corresponding line to your plot.\n",
        "\n"
      ],
      "metadata": {
        "id": "vD3U4x7XhWlD"
      }
    },
    {
      "cell_type": "code",
      "source": [
        "def loss2(coeff,xarray,yarray):\n",
        "  #add your loss function here\n",
        "  loss = numpy.sum((yarray - coeff[0]*xarray - coeff[1])**2)\n",
        "  return loss\n",
        "\n",
        "def loss1(coeff, xarray, yarray):\n",
        "  loss = numpy.sum(numpy.abs(yarray - coeff[0]*xarray - coeff[1]))\n",
        "  return loss\n",
        "\n",
        "\n",
        "from scipy.optimize import minimize\n",
        "\n",
        "start = [1.,1.]\n",
        "\n",
        "# Minimize with L2 loss\n",
        "minimum_l2 = minimize(loss2,x0=start,args=(xarray,yarray), method='BFGS')\n",
        "a_numerical_l2, b_numerical_l2 = minimum_l2.x\n",
        "print(f\"Numerical L2 Fit - Slope (a): {a_numerical_l2}, Intercept (b): {b_numerical_l2}\")\n",
        "\n",
        "# Minimize with L1 loss\n",
        "minimum_l1 = minimize(loss1,x0=start,args=(xarray,yarray), method='BFGS')\n",
        "a_numerical_l1, b_numerical_l1 = minimum_l1.x\n",
        "print(f\"Numerical L1 Fit - Slope (a): {a_numerical_l1}, Intercept (b): {b_numerical_l1}\")\n",
        "\n",
        "pylab.scatter(xarray, yarray, label='Data')\n",
        "pylab.xlabel('x')\n",
        "pylab.ylabel('y')\n",
        "pylab.title('Least Squares and L1/L2 Fits')\n",
        "\n",
        "pylab.plot(xarray, a_numerical_l2 * xarray + b_numerical_l2, color='green', label='Numerical L2 Fit')\n",
        "pylab.plot(xarray, a_numerical_l1 * xarray + b_numerical_l1, color='purple', label='Numerical L1 Fit')\n",
        "pylab.legend()\n",
        "pylab.show()\n"
      ],
      "metadata": {
        "id": "oMMv4LkSFEMo",
        "colab": {
          "base_uri": "https://localhost:8080/",
          "height": 507
        },
        "outputId": "24607b00-fd8b-4864-91c8-34ce8e4c9ca4"
      },
      "execution_count": 29,
      "outputs": [
        {
          "output_type": "stream",
          "name": "stdout",
          "text": [
            "Numerical L2 Fit - Slope (a): 1.8982726685413012, Intercept (b): 1.261222183944693\n",
            "Numerical L1 Fit - Slope (a): 2.025487136810053, Intercept (b): 1.0530815082905238\n"
          ]
        },
        {
          "output_type": "display_data",
          "data": {
            "text/plain": [
              "<Figure size 640x480 with 1 Axes>"
            ],
            "image/png": "[encoded data removed]"
          },
          "metadata": {}
        }
      ]
    },
    {
      "cell_type": "markdown",
      "source": [
        "Finally, perturb one of the data points so that it is a noticeable outlier, and show that the line derived from L1 optimization is less affected than L2."
      ],
      "metadata": {
        "id": "BthRZOzCs8TD"
      }
    },
    {
      "cell_type": "markdown",
      "source": [
        "# Adding more parameters"
      ],
      "metadata": {
        "id": "e__mMbP0hNH5"
      }
    },
    {
      "cell_type": "markdown",
      "source": [
        "Now consider a new data vector, provided below, which contains an oscillatory feature with a known period and phase but an unknown amplitude $c$. Plot the new data. Using L2/least squares optimization and assuming the model function $f=ax+b+c \\sin(5x)$, find the best fit three parameter model (described by the parameters $a, b, c$.)"
      ],
      "metadata": {
        "id": "fXB7JZc8vT5B"
      }
    },
    {
      "cell_type": "code",
      "source": [
        "#new data vector with oscillatory feature\n",
        "xarray = numpy.arange(20.)/5\n",
        "yarray = numpy.array([1.16100793, 1.42923794, 0.80093107, 1.78104663, 2.75986525, 4.56330262,\n",
        " 4.1477148,  4.85440368, 2.17825072, 3.86503213, 4.77178222, 6.33519865,\n",
        " 7.04268761, 4.99445856, 6.05725901, 7.79426178, 7.9263877,  8.77436701,\n",
        " 9.56089799, 6.47543553])-1.*numpy.sin(5.*xarray)\n",
        "\n",
        "start = [1.,1.,1.]\n",
        "\n",
        "def f2(x,m,c,s):\n",
        "  f2 = m*x+c+s*numpy.sin(5*x)\n",
        "  return f2\n",
        "\n",
        "def loss2(coeff,xarray,yarray):\n",
        "  #add your loss function here\n",
        "  loss = numpy.sum((yarray - f2(xarray, coeff[0], coeff[1], coeff[2]))**2)\n",
        "  return loss\n",
        "\n",
        "# Minimize with L2 loss\n",
        "minimum_l2 = minimize(loss2,x0=start,args=(xarray,yarray), method='BFGS')\n",
        "a_numerical_l2_osc = minimum_l2[0]\n",
        "b_numerical_l2_osc = minimum_l2[1]\n",
        "c_numerical_l2_osc = minimum_l2[2]\n",
        "\n",
        "print(f\"Numerical L2 Fit - Slope (a): {a_numerical_l2_osc}, Intercept (b): {b_numerical_l2_osc}, Amplitude (c): {c_numerical_l2_osc}\")\n",
        "\n",
        "pylab.scatter(xarray, yarray, label='Data')\n",
        "pylab.xlabel('x')\n",
        "pylab.ylabel('y')\n",
        "pylab.title('Least Squares and L2 Fits')\n",
        "\n",
        "pylab.plot(xarray, a_numerical_l2_osc * xarray + b_numerical_l2_osc + c_numerical_l2_osc * numpy.sin(5 * xarray), color='green', label='Numerical L2 Fit')\n",
        "pylab.legend()\n",
        "pylab.show()\n"
      ],
      "metadata": {
        "id": "D4GhCkF9WNNE",
        "colab": {
          "base_uri": "https://localhost:8080/",
          "height": 783
        },
        "outputId": "e2778601-edb3-4a03-8365-2385bd375533"
      },
      "execution_count": 37,
      "outputs": [
        {
          "output_type": "stream",
          "name": "stdout",
          "text": [
            "loss : 212.81067403480773\n",
            "loss : 212.81067081497685\n",
            "loss : 212.81067286944827\n",
            "loss : 212.81067495466235\n",
            "loss : 83.0818171468114\n",
            "loss : 83.08181702794404\n",
            "loss : 83.08181721736084\n",
            "loss : 83.08181790828934\n",
            "loss : 73.4159035389856\n",
            "loss : 73.41590318762997\n",
            "loss : 73.41590320384789\n",
            "loss : 73.41590286947263\n",
            "loss : 15.059720004210071\n",
            "loss : 15.059719764646642\n",
            "loss : 15.059719864147414\n",
            "loss : 15.05972002279045\n",
            "loss : 40.85840883928073\n",
            "loss : 40.858408719462474\n",
            "loss : 40.85840913661466\n",
            "loss : 40.858408792876354\n",
            "loss : 14.436768173664511\n",
            "loss : 14.436767950040387\n",
            "loss : 14.436768091823788\n",
            "loss : 14.43676818359475\n",
            "loss : 13.868140323514915\n",
            "loss : 13.868140345036949\n",
            "loss : 13.868140331391425\n",
            "loss : 13.868140322559213\n",
            "loss : 13.862824172554397\n",
            "loss : 13.862824172554387\n",
            "loss : 13.862824172554394\n",
            "loss : 13.86282417255439\n"
          ]
        },
        {
          "output_type": "error",
          "ename": "ValueError",
          "evalue": "too many values to unpack (expected 3)",
          "traceback": [
            "\u001b[0;31m---------------------------------------------------------------------------\u001b[0m",
            "\u001b[0;31mValueError\u001b[0m                                Traceback (most recent call last)",
            "\u001b[0;32m/tmp/ipython-input-1631926978.py\u001b[0m in \u001b[0;36m<cell line: 0>\u001b[0;34m()\u001b[0m\n\u001b[1;32m     20\u001b[0m \u001b[0;31m# Minimize with L2 loss\u001b[0m\u001b[0;34m\u001b[0m\u001b[0;34m\u001b[0m\u001b[0m\n\u001b[1;32m     21\u001b[0m \u001b[0mminimum_l2\u001b[0m \u001b[0;34m=\u001b[0m \u001b[0mminimize\u001b[0m\u001b[0;34m(\u001b[0m\u001b[0mloss2\u001b[0m\u001b[0;34m,\u001b[0m\u001b[0mx0\u001b[0m\u001b[0;34m=\u001b[0m\u001b[0mstart\u001b[0m\u001b[0;34m,\u001b[0m\u001b[0margs\u001b[0m\u001b[0;34m=\u001b[0m\u001b[0;34m(\u001b[0m\u001b[0mxarray\u001b[0m\u001b[0;34m,\u001b[0m\u001b[0myarray\u001b[0m\u001b[0;34m)\u001b[0m\u001b[0;34m,\u001b[0m \u001b[0mmethod\u001b[0m\u001b[0;34m=\u001b[0m\u001b[0;34m'BFGS'\u001b[0m\u001b[0;34m)\u001b[0m\u001b[0;34m\u001b[0m\u001b[0;34m\u001b[0m\u001b[0m\n\u001b[0;32m---> 22\u001b[0;31m \u001b[0ma_numerical_l2_osc\u001b[0m\u001b[0;34m,\u001b[0m \u001b[0mb_numerical_l2_osc\u001b[0m\u001b[0;34m,\u001b[0m \u001b[0mc_numerical_l2_osc\u001b[0m \u001b[0;34m=\u001b[0m \u001b[0mminimum_l2\u001b[0m\u001b[0;34m\u001b[0m\u001b[0;34m\u001b[0m\u001b[0m\n\u001b[0m\u001b[1;32m     23\u001b[0m \u001b[0mprint\u001b[0m\u001b[0;34m(\u001b[0m\u001b[0;34mf\"Numerical L2 Fit - Slope (a): {a_numerical_l2_osc}, Intercept (b): {b_numerical_l2_osc}, Amplitude (c): {c_numerical_l2_osc}\"\u001b[0m\u001b[0;34m)\u001b[0m\u001b[0;34m\u001b[0m\u001b[0;34m\u001b[0m\u001b[0m\n\u001b[1;32m     24\u001b[0m \u001b[0;34m\u001b[0m\u001b[0m\n",
            "\u001b[0;31mValueError\u001b[0m: too many values to unpack (expected 3)"
          ]
        }
      ]
    },
    {
      "cell_type": "markdown",
      "source": [
        "\n",
        "# Bayesian Data Analysis"
      ],
      "metadata": {
        "id": "EgxBoSXWhEf4"
      }
    },
    {
      "cell_type": "markdown",
      "source": [
        "We now turn to Bayesian data analysis. Our original data vector (without oscillations) now has errors, provided below. Write down a likelihood, a prior (you may assume it is just a constant for now), and evaluate the posterior probability on a grid of slope $a$ and intercept $b$ values. Plot this 2D posterior."
      ],
      "metadata": {
        "id": "6e6F02-K1Onp"
      }
    },
    {
      "cell_type": "code",
      "source": [
        "#The original data vector, but this time with errors!\n",
        "xarray = numpy.arange(20.)/5\n",
        "yarray = numpy.array([1.16100793, 2.27070892, 1.7102285 , 1.92216664 ,2.00306275 ,3.60437835,\n",
        " 3.8682993 , 5.51139028, 3.16760897, 4.27715062, 4.22776111, 5.33520844,\n",
        " 6.50611469, 5.4146256,  7.04786637, 8.44454962, 7.63848438, 7.81296952,\n",
        " 8.80991074 ,6.62531274])\n",
        "yarrayError = yarray*0.+1.\n",
        "\n",
        "def loglikelihood(vals):\n",
        "  loglike = #### Write down log(likelihood) function. Vals is 2D array [vals[0],vals[1]]\n",
        "  return loglike\n",
        "\n",
        "#### you may wish to use this function\n",
        "def gridEvaluateFunction(function, xvals, yvals):\n",
        "    #### returns 2d array of function values evaluated on a, b grid values\n",
        "    functionValues = numpy.zeros((len(xvals), len(yvals)))\n",
        "    for i in range(len(xvals)):\n",
        "        for j in range(len(yvals)):\n",
        "            functionValues[i, j] = function([xvals[i], yvals[j]])\n",
        "    return functionValues\n",
        "\n",
        "#### example usage with a function loglikelihood (function of a 2D array)\n",
        "a_grid = numpy.linspace(-3.,7.,256)\n",
        "b_grid = numpy.linspace(-4.,6.,256)\n",
        "logongrid = gridEvaluateFunction(loglikelihood,a_grid,b_grid)\n"
      ],
      "metadata": {
        "id": "THWNcfOnRHlb"
      },
      "execution_count": null,
      "outputs": []
    },
    {
      "cell_type": "markdown",
      "source": [
        "Now, derive the marginalized posterior probability for $a$ by integrating or summing the posterior over the $b$ axis. Plot your result. Repeat this for the posterior on $b$."
      ],
      "metadata": {
        "id": "n5i709Rx6WSE"
      }
    },
    {
      "cell_type": "code",
      "source": [
        "#p_a_marg ="
      ],
      "metadata": {
        "id": "EqEChGzp3_-7"
      },
      "execution_count": null,
      "outputs": []
    },
    {
      "cell_type": "markdown",
      "source": [
        "Repeat the above Bayesian parameter analysis for the sinusoidal dataset and 3-parameter fit. Derive marginalized posteriors for $a$, $b$, and $c$.\n"
      ],
      "metadata": {
        "id": "aaKGhyqw8GHk"
      }
    },
    {
      "cell_type": "code",
      "source": [
        "def loglikelihood2(vals):\n",
        "  loglike2 = #### Write down log(likelihood) function\n",
        "  return loglike2\n",
        "\n",
        "#### you may wish to use this function - a 3d version of evaluate_on_grid\n",
        "def gridEvaluateFunction3D(function, xvals, yvals, zvals):\n",
        "    functionValues = numpy.zeros((len(xvals), len(yvals),len(zvals)))\n",
        "    for i in range(len(xvals)):\n",
        "        for j in range(len(yvals)):\n",
        "            for k in range(len(zvals)):\n",
        "              functionValues[i, j, k] = function([xvals[i], yvals[j], zvals[k]])\n",
        "    return functionValues\n",
        "\n",
        "\n",
        "#use data vector with oscillatory feature\n",
        "xarray = numpy.arange(20.)/5\n",
        "yarray = numpy.array([1.16100793, 1.42923794, 0.80093107, 1.78104663, 2.75986525, 4.56330262,\n",
        " 4.1477148,  4.85440368, 2.17825072, 3.86503213, 4.77178222, 6.33519865,\n",
        " 7.04268761, 4.99445856, 6.05725901, 7.79426178, 7.9263877,  8.77436701,\n",
        " 9.56089799, 6.47543553])\n",
        "\n",
        "\n",
        "#see below for example calculation of marginalized posterior for the slope parameter a.\n",
        "#this evaluation uses only 60 grid points in each dimension\n",
        "a_grid = numpy.linspace(0.,4.,60)\n",
        "b_grid = numpy.linspace(-1.,3.,60)\n",
        "c_grid = numpy.linspace(-3.,1.,60)\n",
        "\n",
        "logongrid2 = gridEvaluateFunction3D(loglikelihood2,a_grid,b_grid,c_grid)\n",
        "ongrid2 = numpy.exp(logongrid2)\n",
        "# note: some care is required to integrate over the correct axes\n",
        "p_a_marg = numpy.sum(ongrid2,axis=(1,2))\n"
      ],
      "metadata": {
        "id": "Nuh_fZhE9svV"
      },
      "execution_count": null,
      "outputs": []
    },
    {
      "cell_type": "markdown",
      "source": [
        "Note the evaluation gets very slow when we make our grid finer! I.e. if we change numpy.linspace(...,60) to a significantly larger number of grid points the algorithm cannot be run. A faster method, which scales well to larger number of parameters, is required... MCMC."
      ],
      "metadata": {
        "id": "lcXZR_Nk_-UJ"
      }
    },
    {
      "cell_type": "markdown",
      "source": [
        "# MCMC\n"
      ],
      "metadata": {
        "id": "OyzL_NtiwG5M"
      }
    },
    {
      "cell_type": "markdown",
      "source": [
        "Now we will solve the same problem with a Markov Chain Monte Carlo method. If you have lots of time left, write your own Metropolis Hastings algorithm. Otherwise, examine and add comments explaining the code written below."
      ],
      "metadata": {
        "id": "t7bGUaP_Gksx"
      }
    },
    {
      "cell_type": "code",
      "source": [
        "def MCMC(parameters,stepnumber,logPosteriorFn,sigmas):\n",
        "  chain = numpy.zeros((stepnumber,len(parameters)))\n",
        "  logProb = numpy.zeros(stepnumber)\n",
        "  chain[0] = parameters\n",
        "  logProb[0] = logPosteriorFn(parameters)\n",
        "  for i in range(1,stepnumber):\n",
        "    diff = numpy.random.normal(sigmas)\n",
        "    newParam = chain[i-1]+diff\n",
        "    newValue = logPosteriorFn(newParam)\n",
        "    logProbRatio = newValue - logPosteriorFn(chain[i-1])\n",
        "    if (logProbRatio > 0) or (numpy.exp(logProbRatio) >  numpy.random.uniform()):\n",
        "      chain[i] = newParam\n",
        "      logProb[i] = newValue\n",
        "    else:\n",
        "      chain[i] = chain[i-1]\n",
        "      logProb[i] = logProb[i-1]\n",
        "  return chain, logProb\n"
      ],
      "metadata": {
        "id": "keDDWiKtwQb_"
      },
      "execution_count": null,
      "outputs": []
    },
    {
      "cell_type": "markdown",
      "source": [
        "Now, run a chain as shown below. Plot the values of $a$ vs. the values of $b$ for the first 3000 steps in the chain and explain this plot. Why are the initial steps often excluded?\n",
        "\n",
        "Generate and plot a histogram of the $a$ values in the chain. Comment on the significance / interpretation of this plot.\n",
        "\n"
      ],
      "metadata": {
        "id": "N6CjbXODPDNc"
      }
    },
    {
      "cell_type": "code",
      "source": [
        "#### can use this along with loglikelihood function to run chains\n",
        "parameters = numpy.array([1.,1.,1.])\n",
        "stepnumber = 100000\n",
        "sigmas = numpy.array([0.1,0.1,0.1])\n",
        "chain, logProb = MCMC(parameters,stepnumber,loglikelihood2,sigmas)\n",
        "#### note: chain is chain[stepnumber,parameter_index]"
      ],
      "metadata": {
        "id": "Zb-AAh3vCThO"
      },
      "execution_count": null,
      "outputs": []
    },
    {
      "cell_type": "markdown",
      "source": [
        "You can also use the corner package to plot the posteriors. Explain what each panel of the plot is showing."
      ],
      "metadata": {
        "id": "vpsatmURTxxZ"
      }
    },
    {
      "cell_type": "code",
      "source": [
        "!source activate statsseminar; pip install corner\n",
        "import corner\n",
        "fig = corner.corner(\n",
        "    chain, bins=15, labels=[\"$a$\", \"$b$\",\"$c$\"]\n",
        ")"
      ],
      "metadata": {
        "id": "fCV0LubEm0ew"
      },
      "execution_count": null,
      "outputs": []
    },
    {
      "cell_type": "markdown",
      "source": [
        "# Examining the impact of priors"
      ],
      "metadata": {
        "id": "Q_cNASOHjQ8i"
      }
    },
    {
      "cell_type": "markdown",
      "source": [
        "Now examine the impact of priors. Set a prior that imposes a lower bound on one of the parameters.  Then impose a prior such that $P(c) \\propto e^{10 c}$. Examine the resulting posterior plots for each case."
      ],
      "metadata": {
        "id": "h3Qnw1JPVLhF"
      }
    },
    {
      "cell_type": "code",
      "source": [],
      "metadata": {
        "id": "GPI7SAU1tKdL"
      },
      "execution_count": null,
      "outputs": []
    }
  ]
}